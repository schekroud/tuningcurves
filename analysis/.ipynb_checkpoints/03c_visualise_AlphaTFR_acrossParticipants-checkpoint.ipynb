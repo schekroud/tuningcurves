{
 "cells": [
  {
   "cell_type": "code",
   "execution_count": null,
   "id": "8b4ba4ae-c811-4764-863b-89b0aba69d87",
   "metadata": {
    "collapsed": true,
    "jupyter": {
     "outputs_hidden": true
    },
    "scrolled": true
   },
   "outputs": [
    {
     "name": "stdout",
     "output_type": "stream",
     "text": [
      "Using matplotlib backend: module://matplotlib_inline.backend_inline\n"
     ]
    }
   ],
   "source": [
    "import numpy   as np\n",
    "import scipy   as sp\n",
    "import pandas  as pd\n",
    "import seaborn as sns\n",
    "import mne\n",
    "import os\n",
    "import os.path as op\n",
    "import sys\n",
    "from matplotlib import pyplot as plt\n",
    "from copy import deepcopy\n",
    "import time\n",
    "%matplotlib\n",
    "#mne.viz.set_browser_backend('qt')\n",
    "import progressbar\n",
    "progressbar.streams.flush()\n",
    "\n",
    "loc = 'workstation'\n",
    "if loc == 'workstation':\n",
    "    wd = 'C:/Users/sammirc/Desktop/postdoc/tuningcurves'\n",
    "    # sys.path.insert(0, op.join(wd, 'analysis', 'tools'))\n",
    "elif loc == 'laptop':\n",
    "    wd = '/Users/sammichekroud/Desktop/postdoc/tuningcurves'\n",
    "sys.path.insert(0, op.join(wd, 'analysis', 'tools'))\n",
    "os.chdir(wd)\n",
    "from funcs import getSubjectInfo\n",
    "\n",
    "subs = np.array([1, 2, 3, 4, 5, 6, 7, 8, 9, 10, 11, 12, 13, 14, 15, 16, 17, 18, 19, 20, 21, 22, 23, 24, 25, 26])\n",
    "subs = np.array([         4, 5, 6, 7, 8, 9,     11, 12, 13, 14, 15, 16, 17, 18,     20, 21, 22,     24, 25, 26])\n",
    "#1,2,3,10,19 all have only 1 session. 23 something wrong in the second session, completely unusable eeg data due to serious noise\n",
    "nsubs = subs.size\n",
    "# baseline_data = True \n",
    "# logdata = True\n",
    "\n",
    "for logdata in [True, False]:\n",
    "    fig = plt.figure(figsize = [12,3])\n",
    "    iplot = 0\n",
    "    for baseline_data in [True, False]:\n",
    "        iplot += 1\n",
    "        gmean = np.zeros(shape = [nsubs, 225]) * np.nan #225 time points\n",
    "        gmean = np.zeros(shape = [nsubs, 171]) * np.nan\n",
    "        subcount = 0\n",
    "        for i in subs:\n",
    "            subcount += 1\n",
    "            # print(f'\\n\\nworking on participant {subcount}/{nsubs}')\n",
    "            sub = dict(loc = loc, id = i)\n",
    "            param = getSubjectInfo(sub)\n",
    "            \n",
    "            tfr = mne.time_frequency.read_tfrs(fname = op.join(param['path'], 'eeg', f's{i:02d}/wmConfidence_s{i:02d}_arraylocked_preproc_alpha-tfr.h5'), verbose=False)\n",
    "            \n",
    "            #crop data\n",
    "            tfr = tfr.crop(tmin = -0.7, tmax = 1)\n",
    "            # tfr = tfr.apply_baseline((-0.5, -0.3))\n",
    "            \n",
    "            # tfr.average().plot_joint(dB = True)\n",
    "            \n",
    "            vischans = [\n",
    "                'P7', 'P5', 'P3', 'P1', 'Pz', 'P2', 'P4', 'P6', 'P8',\n",
    "                        'PO7', 'PO3',  'POz', 'PO4', 'PO8', \n",
    "                                'O1', 'Oz', 'O2']\n",
    "            \n",
    "            tfvis = tfr.copy().pick(picks=vischans)\n",
    "            tfdat = tfvis._data.copy()\n",
    "            \n",
    "            if logdata:\n",
    "                tfdat = np.multiply(10, np.log10(tfdat))\n",
    "                \n",
    "            if baseline_data:\n",
    "                bline = [-0.5, -0.3]\n",
    "                binds = np.logical_and(tfr.times>= bline[0], tfr.times <= bline[1])\n",
    "                bvals = tfdat[:,:,:,binds].mean(axis=-1, keepdims=True)\n",
    "                tfdat = np.subtract(tfdat, bvals) #baselines each trial, channel and frequency separately\n",
    "                \n",
    "            tdat = tfdat.copy().mean(2).mean(1) #average across frequencies then channels\n",
    "            tdat = tdat.mean(0) #then average across trials\n",
    "            gmean[subcount-1] = tdat.copy()\n",
    "    \n",
    "        \n",
    "        gm = np.mean(gmean, axis=0)\n",
    "        gsem = sp.stats.sem(gmean, axis=0, ddof=0, nan_policy='omit')\n",
    "        \n",
    "        # fig = plt.figure()\n",
    "        # ax = fig.add_subplot(111)\n",
    "        ax = fig.add_subplot(1, 2, iplot)\n",
    "        ax.plot(tfr.times, gm, lw = 1, color='#3182bd')\n",
    "        ax.fill_between(tfr.times, np.add(gm, gsem), np.subtract(gm, gsem), lw = 0, edgecolor=None,\n",
    "                        color = '#3182bd', alpha = 0.2)\n",
    "        ax.set_xlabel('time relative to array onset (s)')\n",
    "        ax.set_ylabel('alpha power')\n",
    "        ax.set_title(f'baselined = {baseline_data}; logdata = {logdata}', fontsize=10)\n",
    "        ax.axvline(0, lw = 1, ls = 'dashed', color = 'k')\n",
    "    fig.tight_layout()"
   ]
  }
 ],
 "metadata": {
  "kernelspec": {
   "display_name": "Python 3 (ipykernel)",
   "language": "python",
   "name": "python3"
  },
  "language_info": {
   "codemirror_mode": {
    "name": "ipython",
    "version": 3
   },
   "file_extension": ".py",
   "mimetype": "text/x-python",
   "name": "python",
   "nbconvert_exporter": "python",
   "pygments_lexer": "ipython3",
   "version": "3.12.4"
  }
 },
 "nbformat": 4,
 "nbformat_minor": 5
}
